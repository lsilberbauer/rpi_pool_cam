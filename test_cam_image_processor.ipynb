{
 "cells": [
  {
   "cell_type": "code",
   "execution_count": 1,
   "metadata": {},
   "outputs": [
    {
     "name": "stdout",
     "output_type": "stream",
     "text": [
      "{ \"K1\": 1, \"K2\": 0, \"K3\": 1, \"S1\": 1, \"S2\": 1, \"S3\": 1, \"S4\": 1, \"Status\": 1, \"Black\": 0,  }\n"
     ]
    }
   ],
   "source": [
    "%matplotlib inline\n",
    "#The line above is necesary to show Matplotlib's plots inside a Jupyter Notebook\n",
    "\n",
    "import yaml\n",
    "import cv2 \n",
    "from matplotlib import pyplot as plt\n",
    "import numpy as np\n",
    "import math\n",
    "import cam_image_processor\n",
    "\n",
    "#image = cv2.imread(\"samples/normal_s3_7.08_769.jpg\")\n",
    "image = cv2.imread(\"samples/full_s2_7.16_790.jpg\")\n",
    "\n",
    "print(cam_image_processor.get_led_status(image, False))\n",
    "\n",
    "plt.figure(figsize=(20,20))\n",
    "plt.imshow(cv2.cvtColor(cam_image_processor.get_led_status(image, True), cv2.COLOR_BGR2RGB))\n",
    "plt.show()\n"
   ]
  }
 ],
 "metadata": {
  "kernelspec": {
   "display_name": ".venv",
   "language": "python",
   "name": "python3"
  },
  "language_info": {
   "codemirror_mode": {
    "name": "ipython",
    "version": 3
   },
   "file_extension": ".py",
   "mimetype": "text/x-python",
   "name": "python",
   "nbconvert_exporter": "python",
   "pygments_lexer": "ipython3",
   "version": "3.12.3"
  }
 },
 "nbformat": 4,
 "nbformat_minor": 2
}
